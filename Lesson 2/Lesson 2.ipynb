{
 "cells": [
  {
   "cell_type": "code",
   "execution_count": 277,
   "metadata": {},
   "outputs": [],
   "source": [
    "import pandas as pd\n",
    "from pyspark.ml.linalg import Vectors\n",
    "from pyspark.ml.stat import Correlation"
   ]
  },
  {
   "cell_type": "code",
   "execution_count": 278,
   "metadata": {},
   "outputs": [],
   "source": [
    "df = spark.read.csv(\"house_prices.csv\", inferSchema = True, header = True)"
   ]
  },
  {
   "cell_type": "code",
   "execution_count": 279,
   "metadata": {},
   "outputs": [
    {
     "name": "stdout",
     "output_type": "stream",
     "text": [
      "OverallQual 0.7909816005838053\n"
     ]
    }
   ],
   "source": [
    "\n",
    "idColumnName = 'Id'\n",
    "salePriceColumnName = 'SalePrice'\n",
    "maxCorrelation = -1\n",
    "maxCorrelationColumnName = \"\"\n",
    "\n",
    "for item in df.dtypes:\n",
    "    if not item[1].startswith('string') and item[0] != idColumnName and item[0] != salePriceColumnName:\n",
    "        correlation = df.stat.corr(item[0], salePriceColumnName, \"pearson\")\n",
    "        if correlation > maxCorrelation:\n",
    "            maxCorrelation = correlation\n",
    "            maxCorrelationColumnName = item[0]\n",
    "\n",
    "print(maxCorrelationColumnName, maxCorrelation)"
   ]
  },
  {
   "cell_type": "code",
   "execution_count": 280,
   "metadata": {},
   "outputs": [
    {
     "name": "stdout",
     "output_type": "stream",
     "text": [
      "('OverallQual', 0.7909816005838053)\n"
     ]
    }
   ],
   "source": [
    "def columnsFilter(column):\n",
    "    notString = not column[1].startswith('string')\n",
    "    notId = column[0] != idColumnName\n",
    "    notSalePrice = column[0] != salePriceColumnName\n",
    "    return notString and notId and notSalePrice\n",
    "\n",
    "def correlationMap(column):\n",
    "    correlation = df.stat.corr(column[0], salePriceColumnName, \"pearson\")\n",
    "    return (column[0], correlation)\n",
    "\n",
    "filteredColumns = list(filter(columnsFilter, df.dtypes))\n",
    "correlationColumns = map(correlationMap, filteredColumns)\n",
    "print(max(correlationColumns, key=lambda item:item[1]))\n",
    "\n"
   ]
  },
  {
   "cell_type": "code",
   "execution_count": null,
   "metadata": {},
   "outputs": [],
   "source": []
  }
 ],
 "metadata": {
  "kernelspec": {
   "display_name": "Python 3",
   "language": "python",
   "name": "python3"
  }
 },
 "nbformat": 4,
 "nbformat_minor": 2
}
