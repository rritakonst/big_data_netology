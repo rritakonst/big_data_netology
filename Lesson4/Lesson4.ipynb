{
 "cells": [
  {
   "cell_type": "code",
   "execution_count": 5,
   "metadata": {},
   "outputs": [],
   "source": [
    "from pymongo import MongoClient"
   ]
  },
  {
   "cell_type": "code",
   "execution_count": 6,
   "metadata": {},
   "outputs": [],
   "source": [
    "myclient = MongoClient(\"mongodb://localhost:27017/\")"
   ]
  },
  {
   "cell_type": "code",
   "execution_count": 7,
   "metadata": {},
   "outputs": [],
   "source": [
    "mydb = myclient[\"titanic\"]"
   ]
  },
  {
   "cell_type": "code",
   "execution_count": 26,
   "metadata": {
    "scrolled": true
   },
   "outputs": [
    {
     "name": "stdout",
     "output_type": "stream",
     "text": [
      "['admin', 'config', 'local']\n"
     ]
    }
   ],
   "source": [
    "print(myclient.list_database_names())"
   ]
  },
  {
   "cell_type": "code",
   "execution_count": 9,
   "metadata": {},
   "outputs": [],
   "source": [
    "test_col = mydb[\"test\"]\n",
    "train_col = mydb[\"train\"]"
   ]
  },
  {
   "cell_type": "code",
   "execution_count": 19,
   "metadata": {},
   "outputs": [
    {
     "name": "stdout",
     "output_type": "stream",
     "text": [
      "['test', 'train']\n"
     ]
    }
   ],
   "source": [
    "print(mydb.list_collection_names())"
   ]
  },
  {
   "cell_type": "code",
   "execution_count": null,
   "metadata": {},
   "outputs": [],
   "source": [
    "test_list = [\n",
    "    { \n",
    "        'survival':'row1',\n",
    "        'pclass':'row1',\n",
    "        'sex':'row1',\n",
    "        'Age':'row1',\n",
    "        'sibsp':'row1',\n",
    "        'parch':'row1',\n",
    "        'ticket':'row1',\n",
    "        'fare':'row1',\n",
    "        'cabin':'row1',\n",
    "        'embarked2':'row1',\n",
    "    },\n",
    "    { \n",
    "        'survival':'row2',\n",
    "        'pclass':'row2',\n",
    "        'sex':'row2',\n",
    "        'Age':'row2',\n",
    "        'sibsp':'row2',\n",
    "        'parch':'row2',\n",
    "        'ticket':'row2',\n",
    "        'fare':'row2',\n",
    "        'cabin':'row2',\n",
    "        'embarked2':'row2',\n",
    "  },\n",
    "]\n",
    "\n",
    "\n",
    "train_list = [\n",
    "    { \n",
    "        'survival':'row1',\n",
    "        'pclass':'row1',\n",
    "        'sex':'row1',\n",
    "        'Age':'row1',\n",
    "        'sibsp':'row1',\n",
    "        'parch':'row1',\n",
    "        'ticket':'row1',\n",
    "        'fare':'row1',\n",
    "        'cabin':'row1',\n",
    "        'embarked2':'row1',\n",
    "    },\n",
    "    { \n",
    "        'survival':'row2',\n",
    "        'pclass':'row2',\n",
    "        'sex':'row2',\n",
    "        'Age':'row2',\n",
    "        'sibsp':'row2',\n",
    "        'parch':'row2',\n",
    "        'ticket':'row2',\n",
    "        'fare':'row2',\n",
    "        'cabin':'row2',\n",
    "        'embarked2':'row2',\n",
    "  },\n",
    "]"
   ]
  },
  {
   "cell_type": "code",
   "execution_count": null,
   "metadata": {},
   "outputs": [],
   "source": [
    "insert_test_col = test_col.insert_many(test_list)\n",
    "insert_train_col = train_col.insert_many(train_list)"
   ]
  },
  {
   "cell_type": "code",
   "execution_count": null,
   "metadata": {},
   "outputs": [],
   "source": [
    "print(myclient.list_database_names())"
   ]
  },
  {
   "cell_type": "code",
   "execution_count": null,
   "metadata": {},
   "outputs": [],
   "source": [
    "print(mydb.list_collection_names())"
   ]
  },
  {
   "cell_type": "markdown",
   "metadata": {},
   "source": [
    "### `find({query}, {projection})` - метод, позволяющий вывести только те документы и проекции, которые подпадают под условие. Аналогичен связке операторов `SELECT` и `WHERE` в `SQL`"
   ]
  },
  {
   "cell_type": "markdown",
   "metadata": {},
   "source": [
    "### Выведем все документы в коллекции"
   ]
  },
  {
   "cell_type": "code",
   "execution_count": 23,
   "metadata": {},
   "outputs": [
    {
     "name": "stdout",
     "output_type": "stream",
     "text": [
      "{'_id': ObjectId('5c9e78b33ee13d822b2df827'), 'survival': 'row1', 'pclass': 'row1', 'sex': 'row1', 'Age': 'row1', 'sibsp': 'row1', 'parch': 'row1', 'ticket': 'row1', 'fare': 'row1', 'cabin': 'row1', 'embarked2': 'row1'}\n",
      "{'_id': ObjectId('5c9e78b33ee13d822b2df828'), 'survival': 'row2', 'pclass': 'row2', 'sex': 'row2', 'Age': 'row2', 'sibsp': 'row2', 'parch': 'row2', 'ticket': 'row2', 'fare': 'row2', 'cabin': 'row2', 'embarked2': 'row2'}\n"
     ]
    }
   ],
   "source": [
    "for doc in train_col.find():\n",
    "    print(doc)"
   ]
  },
  {
   "cell_type": "code",
   "execution_count": 24,
   "metadata": {},
   "outputs": [
    {
     "name": "stdout",
     "output_type": "stream",
     "text": [
      "{'_id': ObjectId('5c9e78b33ee13d822b2df825'), 'survival': 'row1', 'pclass': 'row1', 'sex': 'row1', 'Age': 'row1', 'sibsp': 'row1', 'parch': 'row1', 'ticket': 'row1', 'fare': 'row1', 'cabin': 'row1', 'embarked2': 'row1'}\n",
      "{'_id': ObjectId('5c9e78b33ee13d822b2df826'), 'survival': 'row2', 'pclass': 'row2', 'sex': 'row2', 'Age': 'row2', 'sibsp': 'row2', 'parch': 'row2', 'ticket': 'row2', 'fare': 'row2', 'cabin': 'row2', 'embarked2': 'row2'}\n"
     ]
    }
   ],
   "source": [
    "for doc in test_col.find():\n",
    "    print(doc)"
   ]
  },
  {
   "cell_type": "markdown",
   "metadata": {},
   "source": [
    "### Выведем все документы с проекцией на `survival` и `pclass`"
   ]
  },
  {
   "cell_type": "code",
   "execution_count": null,
   "metadata": {},
   "outputs": [],
   "source": [
    "for doc in train_col.find({},{'_id':0, 'survival':1, 'pclass':1}):\n",
    "    print(doc)"
   ]
  },
  {
   "cell_type": "code",
   "execution_count": null,
   "metadata": {},
   "outputs": [],
   "source": [
    "for doc in test_col.find({},{'_id':0, 'survival':1, 'pclass':1}):\n",
    "    print(doc)"
   ]
  },
  {
   "cell_type": "markdown",
   "metadata": {},
   "source": [
    "### Выведем всех, кто старше 20 лет"
   ]
  },
  {
   "cell_type": "code",
   "execution_count": null,
   "metadata": {},
   "outputs": [],
   "source": [
    "query = { \"Age\": { \"$gt\": 20 } }\n",
    "\n",
    "docs_test = test_col.find(query)\n",
    "docs_train = train_col.find(query)\n",
    "\n",
    "for doc in docs_test:\n",
    "    print(doc)\n",
    "    \n",
    "for doc in docs_train:\n",
    "    print(doc)"
   ]
  },
  {
   "cell_type": "markdown",
   "metadata": {},
   "source": [
    "### Удалим всех, кто младше 10 лет в `test_col` и младше 15 лет в `train_col`"
   ]
  },
  {
   "cell_type": "code",
   "execution_count": null,
   "metadata": {},
   "outputs": [],
   "source": [
    "query_1 = { \"Age\": { \"$lt\": 10 } }\n",
    "test_col.delete_many(query_1)\n",
    "\n",
    "\n",
    "query_2 = { \"Age\": { \"$lt\": 15 } }\n",
    "train_col.delete_many(query_2)"
   ]
  },
  {
   "cell_type": "markdown",
   "metadata": {},
   "source": [
    "### Выведите на экран обе коллекции"
   ]
  },
  {
   "cell_type": "code",
   "execution_count": 22,
   "metadata": {},
   "outputs": [
    {
     "name": "stdout",
     "output_type": "stream",
     "text": [
      "{'_id': ObjectId('5c9e78b33ee13d822b2df825'), 'survival': 'row1', 'pclass': 'row1', 'sex': 'row1', 'Age': 'row1', 'sibsp': 'row1', 'parch': 'row1', 'ticket': 'row1', 'fare': 'row1', 'cabin': 'row1', 'embarked2': 'row1'}\n",
      "{'_id': ObjectId('5c9e78b33ee13d822b2df826'), 'survival': 'row2', 'pclass': 'row2', 'sex': 'row2', 'Age': 'row2', 'sibsp': 'row2', 'parch': 'row2', 'ticket': 'row2', 'fare': 'row2', 'cabin': 'row2', 'embarked2': 'row2'}\n",
      "{'_id': ObjectId('5c9e78b33ee13d822b2df827'), 'survival': 'row1', 'pclass': 'row1', 'sex': 'row1', 'Age': 'row1', 'sibsp': 'row1', 'parch': 'row1', 'ticket': 'row1', 'fare': 'row1', 'cabin': 'row1', 'embarked2': 'row1'}\n",
      "{'_id': ObjectId('5c9e78b33ee13d822b2df828'), 'survival': 'row2', 'pclass': 'row2', 'sex': 'row2', 'Age': 'row2', 'sibsp': 'row2', 'parch': 'row2', 'ticket': 'row2', 'fare': 'row2', 'cabin': 'row2', 'embarked2': 'row2'}\n"
     ]
    }
   ],
   "source": [
    "cursor = test_col.find({})\n",
    "for document in cursor: \n",
    "    print(document)\n",
    "    \n",
    "cursor = train_col.find({})\n",
    "for document in cursor: \n",
    "    print(document)"
   ]
  },
  {
   "cell_type": "markdown",
   "metadata": {},
   "source": [
    "### Удалим нашу БД"
   ]
  },
  {
   "cell_type": "code",
   "execution_count": 25,
   "metadata": {},
   "outputs": [],
   "source": [
    "myclient.drop_database(\"titanic\")"
   ]
  }
 ],
 "metadata": {
  "kernelspec": {
   "display_name": "Python 3",
   "language": "python",
   "name": "python3"
  },
  "language_info": {
   "codemirror_mode": {
    "name": "ipython",
    "version": 3
   },
   "file_extension": ".py",
   "mimetype": "text/x-python",
   "name": "python",
   "nbconvert_exporter": "python",
   "pygments_lexer": "ipython3",
   "version": "3.7.1"
  }
 },
 "nbformat": 4,
 "nbformat_minor": 2
}
